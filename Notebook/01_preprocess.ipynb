{
 "cells": [
  {
   "cell_type": "markdown",
   "id": "a46861b0",
   "metadata": {},
   "source": [
    "Goal: Read PDF → Clean text → Break into overlapping chunks."
   ]
  },
  {
   "cell_type": "code",
   "execution_count": null,
   "id": "4c632b4e",
   "metadata": {},
   "outputs": [],
   "source": [
    "import fitz  # PyMuPDF\n",
    "import re\n",
    "from langchain.text_splitter import RecursiveCharacterTextSplitter\n",
    "import json"
   ]
  },
  {
   "cell_type": "code",
   "execution_count": null,
   "id": "62dca9c4",
   "metadata": {},
   "outputs": [],
   "source": [
    "# Load PDF\n",
    "doc = fitz.open(r\"C:\\Users\\USER\\Downloads\\LLM Project Structure\\Data\\AI Training Document.pdf\")\n",
    "full_text = \" \".join(page.get_text() for page in doc)"
   ]
  },
  {
   "cell_type": "code",
   "execution_count": null,
   "id": "8a2f6d02",
   "metadata": {},
   "outputs": [],
   "source": [
    "# Clean text (remove extra spaces, headers/footers etc.)\n",
    "text = re.sub(r'\\n+', '\\n', full_text)\n",
    "text = re.sub(r'\\s+', ' ', text).strip()"
   ]
  },
  {
   "cell_type": "code",
   "execution_count": 6,
   "id": "7bd04f54",
   "metadata": {},
   "outputs": [],
   "source": [
    "# Sentence-aware chunking (100-300 words)\n",
    "text_splitter = RecursiveCharacterTextSplitter(\n",
    "    chunk_size=1000,\n",
    "    chunk_overlap=200,\n",
    "    separators=[\"\\n\\n\", \".\", \"!\", \"?\", \",\", \" \", \"\"]\n",
    ")\n",
    "chunks = text_splitter.split_text(text)"
   ]
  },
  {
   "cell_type": "code",
   "execution_count": 7,
   "id": "ce82beb8",
   "metadata": {},
   "outputs": [],
   "source": [
    "with open(\"../chunks/chunks.json\", \"w\") as f:\n",
    "    json.dump(chunks, f)"
   ]
  },
  {
   "cell_type": "code",
   "execution_count": null,
   "id": "b217c462",
   "metadata": {},
   "outputs": [],
   "source": []
  }
 ],
 "metadata": {
  "kernelspec": {
   "display_name": "base",
   "language": "python",
   "name": "python3"
  },
  "language_info": {
   "codemirror_mode": {
    "name": "ipython",
    "version": 3
   },
   "file_extension": ".py",
   "mimetype": "text/x-python",
   "name": "python",
   "nbconvert_exporter": "python",
   "pygments_lexer": "ipython3",
   "version": "3.11.5"
  }
 },
 "nbformat": 4,
 "nbformat_minor": 5
}
